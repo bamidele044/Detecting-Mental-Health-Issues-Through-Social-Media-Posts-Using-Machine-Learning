{
 "cells": [
  {
   "cell_type": "code",
   "execution_count": 1,
   "id": "25df79d4-857b-4484-8975-9bc1684e97bb",
   "metadata": {},
   "outputs": [],
   "source": [
    "import nest_asyncio\n",
    "nest_asyncio.apply()"
   ]
  },
  {
   "cell_type": "code",
   "execution_count": 2,
   "id": "7f0bfad5-71e3-4fc0-acfb-64a3698e2b34",
   "metadata": {},
   "outputs": [
    {
     "name": "stderr",
     "output_type": "stream",
     "text": [
      "\n",
      "KeyboardInterrupt\n",
      "\n"
     ]
    }
   ],
   "source": [
    "import pandas as pd\n",
    "import re\n",
    "from sklearn.feature_extraction.text import TfidfVectorizer\n",
    "from sklearn.svm import SVC\n",
    "from sklearn.model_selection import train_test_split\n",
    "from sklearn.metrics import accuracy_score, f1_score, classification_report\n",
    "from sklearn.preprocessing import LabelEncoder\n",
    "from tensorflow.keras.preprocessing.text import Tokenizer\n",
    "from tensorflow.keras.preprocessing.sequence import pad_sequences\n",
    "from tensorflow.keras.models import Sequential\n",
    "from tensorflow.keras.layers import Embedding, LSTM, Dense, Dropout, Bidirectional\n",
    "import nltk\n",
    "from nltk.tokenize import word_tokenize\n",
    "from nltk.corpus import stopwords\n",
    "\n",
    "# Downloading required NLTK data\n",
    "nltk.download(\"punkt\")\n",
    "nltk.download(\"stopwords\")\n",
    "\n",
    "# Function for cleaning the text\n",
    "def clean_text(text):\n",
    "    text = text.lower()\n",
    "    text = re.sub(r\"https?://\\S+|www\\.\\S+\", \"\", text)  # Removing URLs\n",
    "    text = re.sub(r\"[^\\w\\s]\", \"\", text)  # Removing punctuation\n",
    "    text = re.sub(r\"\\d+\", \"\", text)  # Removing numbers\n",
    "    tokens = word_tokenize(text)  # Tokenise the text\n",
    "    tokens = [word for word in tokens if word not in stopwords.words(\"english\")]  # Removing stopwords\n",
    "    return \" \".join(tokens)\n",
    "\n",
    "# Loading the sythetic data\n",
    "file_path = 'C:/Users/user/OneDrive/Desktop/Jupyter_Notebook/new_synthetic.csv'\n",
    "df = pd.read_csv(file_path)\n",
    "df[\"clean_text\"] = df[\"text\"].apply(clean_text)\n",
    "\n",
    "# Encode the 'status' column (e.g., depression=0, anxiety=1, stress=2)\n",
    "label_encoder = LabelEncoder()\n",
    "df[\"label\"] = label_encoder.fit_transform(df[\"status\"])\n",
    "\n",
    "# Splitting dataset into training and testing sets\n",
    "X_train, X_test, y_train, y_test = train_test_split(df[\"clean_text\"], df[\"label\"], test_size=0.2, random_state=42)\n",
    "\n",
    "# TF-IDF Vectorization for SVM\n",
    "tfidf_vectorizer = TfidfVectorizer(max_features=5000)\n",
    "X_train_tfidf = tfidf_vectorizer.fit_transform(X_train)\n",
    "X_test_tfidf = tfidf_vectorizer.transform(X_test)\n",
    "\n",
    "# Tokenization and Padding for BiLSTM\n",
    "max_words = 5000\n",
    "max_length = 100\n",
    "tokenizer = Tokenizer(num_words=max_words, oov_token=\"<OOV>\")\n",
    "tokenizer.fit_on_texts(X_train)\n",
    "X_train_seq = pad_sequences(tokenizer.texts_to_sequences(X_train), maxlen=max_length, padding=\"post\")\n",
    "X_test_seq = pad_sequences(tokenizer.texts_to_sequences(X_test), maxlen=max_length, padding=\"post\")\n",
    "\n",
    "# SVM Model\n",
    "svm_model = SVC(kernel=\"linear\", probability=True)\n",
    "svm_model.fit(X_train_tfidf, y_train)\n",
    "svm_preds = svm_model.predict(X_test_tfidf)\n",
    "svm_accuracy = accuracy_score(y_test, svm_preds)\n",
    "svm_f1 = f1_score(y_test, svm_preds, average=\"weighted\")\n",
    "\n",
    "# BiLSTM Model\n",
    "embedding_dim = 64\n",
    "bilstm_model = Sequential([\n",
    "    Embedding(input_dim=max_words, output_dim=embedding_dim, input_length=max_length),\n",
    "    Bidirectional(LSTM(64, return_sequences=True)),\n",
    "    Bidirectional(LSTM(32)),\n",
    "    Dense(32, activation=\"relu\"),\n",
    "    Dropout(0.5),\n",
    "    Dense(len(label_encoder.classes_), activation=\"softmax\")  # Multi-class output\n",
    "])\n",
    "bilstm_model.compile(loss=\"sparse_categorical_crossentropy\", optimizer=\"adam\", metrics=[\"accuracy\"])\n",
    "bilstm_model.fit(X_train_seq, y_train, validation_data=(X_test_seq, y_test), epochs=5, batch_size=32)\n",
    "bilstm_preds = bilstm_model.predict(X_test_seq).argmax(axis=1)\n",
    "bilstm_accuracy = accuracy_score(y_test, bilstm_preds)\n",
    "bilstm_f1 = f1_score(y_test, bilstm_preds, average=\"weighted\")\n",
    "\n",
    "# Comparing models\n",
    "print(\"SVM Accuracy:\", svm_accuracy)\n",
    "print(\"SVM F1 Score:\", svm_f1)\n",
    "print(\"BiLSTM Accuracy:\", bilstm_accuracy)\n",
    "print(\"BiLSTM F1 Score:\", bilstm_f1)\n",
    "\n",
    "# Selecting the best model\n",
    "if svm_f1 > bilstm_f1:\n",
    "    best_model = svm_model\n",
    "    model_type = \"SVM\"\n",
    "    vectorizer = tfidf_vectorizer\n",
    "    print(\"Best Model: SVM\")\n",
    "else:\n",
    "    best_model = bilstm_model\n",
    "    model_type = \"BiLSTM\"\n",
    "    tokenizer = tokenizer\n",
    "    max_length = max_length\n",
    "    print(\"Best Model: BiLSTM\")"
   ]
  },
  {
   "cell_type": "code",
   "execution_count": 42,
   "id": "c991508e-3d22-4087-8cc1-36d0041d23af",
   "metadata": {},
   "outputs": [
    {
     "name": "stdout",
     "output_type": "stream",
     "text": [
      "SVM model and TF-IDF vectorizer saved successfully.\n"
     ]
    }
   ],
   "source": [
    "import joblib\n",
    "from sklearn.preprocessing import LabelEncoder\n",
    "\n",
    "# Saving the trained SVM model\n",
    "joblib.dump(svm_model, \"svm_model.pkl\")\n",
    "\n",
    "# Saving the TF-IDF vectorizer\n",
    "joblib.dump(tfidf_vectorizer, \"tfidf_vectorizer.pkl\")\n",
    "\n",
    "print(\"SVM model and TF-IDF vectorizer saved successfully.\")\n"
   ]
  },
  {
   "cell_type": "code",
   "execution_count": 46,
   "id": "3fc77f71-467a-4d0b-a827-4e9d6a6ab258",
   "metadata": {},
   "outputs": [
    {
     "name": "stdout",
     "output_type": "stream",
     "text": [
      "Label Encoder successfully saved!\n"
     ]
    }
   ],
   "source": [
    "\n",
    "# Loading the dataset\n",
    "file_path = 'C:/Users/user/OneDrive/Desktop/Jupyter_Notebook/new_synthetic.csv'\n",
    "df = pd.read_csv(file_path)\n",
    "\n",
    "# Recreating and fit the LabelEncoder\n",
    "label_encoder = LabelEncoder()\n",
    "df[\"label\"] = label_encoder.fit_transform(df[\"status\"])  \n",
    "\n",
    "# Saving the label encoder \n",
    "joblib.dump(label_encoder, \"C:/Users/user/OneDrive/Desktop/JN/label_encoder.pkl\")\n",
    "print(\"Label Encoder successfully saved!\")\n"
   ]
  },
  {
   "cell_type": "code",
   "execution_count": 3,
   "id": "500ee249-a8f7-42e9-a8b2-64e26d577cdc",
   "metadata": {},
   "outputs": [
    {
     "data": {
      "image/png": "[encoded data removed]",
      "text/plain": [
       "<Figure size 600x400 with 1 Axes>"
      ]
     },
     "metadata": {},
     "output_type": "display_data"
    }
   ],
   "source": [
    "import matplotlib.pyplot as plt\n",
    "import numpy as np\n",
    "\n",
    "# Names of the metrics and models\n",
    "metrics = ['Accuracy', 'F1-score']\n",
    "svm_scores = [0.7474, 0.7410]\n",
    "bilstm_scores = [0.7143, 0.7093]\n",
    "# Setting position of the bars on the x-axis\n",
    "x = np.arange(len(metrics))\n",
    "bar_width = 0.35\n",
    "# Creating grouped bar chart\n",
    "fig, ax = plt.subplots(figsize=(6, 4))\n",
    "# Bars for SVM and BiLSTM\n",
    "bars1 = ax.bar(x - bar_width/2, svm_scores, bar_width, label='SVM', color='orange')\n",
    "bars2 = ax.bar(x + bar_width/2, bilstm_scores, bar_width, label='BiLSTM', color='orangered')\n",
    "# Labels and formatting\n",
    "ax.set_xlabel('Metrics')\n",
    "ax.set_ylabel('Score')\n",
    "ax.set_title('Model Performance Comparison')\n",
    "ax.set_xticks(x)\n",
    "ax.set_xticklabels(metrics)\n",
    "ax.set_ylim(0, 1)\n",
    "ax.legend()\n",
    "# Annotating bars with scores\n",
    "ax.bar_label(bars1, fmt='%.4f', padding=3)\n",
    "ax.bar_label(bars2, fmt='%.4f', padding=3)\n",
    "\n",
    "plt.tight_layout()\n",
    "plt.show()\n"
   ]
  },
  {
   "cell_type": "code",
   "execution_count": 4,
   "id": "b91abead-9c5e-4a89-b2ee-8465f2f13804",
   "metadata": {},
   "outputs": [],
   "source": [
    "import nltk\n",
    "from nltk.tokenize import word_tokenize\n",
    "from nltk.corpus import stopwords"
   ]
  },
  {
   "cell_type": "code",
   "execution_count": null,
   "id": "0ff42198-a90a-48cd-8a67-cfe2f557b89a",
   "metadata": {},
   "outputs": [
    {
     "name": "stderr",
     "output_type": "stream",
     "text": [
      "[nltk_data] Downloading package punkt to\n",
      "[nltk_data]     C:\\Users\\user\\AppData\\Roaming\\nltk_data...\n",
      "[nltk_data]   Package punkt is already up-to-date!\n",
      "[nltk_data] Downloading package stopwords to\n",
      "[nltk_data]     C:\\Users\\user\\AppData\\Roaming\\nltk_data...\n",
      "[nltk_data]   Package stopwords is already up-to-date!\n",
      "INFO:     Started server process [2032]\n",
      "INFO:     Waiting for application startup.\n",
      "INFO:     Application startup complete.\n",
      "INFO:     Uvicorn running on http://127.0.0.1:8000 (Press CTRL+C to quit)\n"
     ]
    },
    {
     "name": "stdout",
     "output_type": "stream",
     "text": [
      "INFO:     127.0.0.1:51590 - \"GET / HTTP/1.1\" 200 OK\n"
     ]
    },
    {
     "name": "stderr",
     "output_type": "stream",
     "text": [
      "INFO:     ('127.0.0.1', 51597) - \"WebSocket /websocket/\" [accepted]\n",
      "INFO:     connection open\n"
     ]
    }
   ],
   "source": [
    "from shiny import App, ui, render\n",
    "import pandas as pd\n",
    "import re\n",
    "import joblib\n",
    "from nltk.tokenize import word_tokenize\n",
    "from nltk.corpus import stopwords\n",
    "import nltk\n",
    "\n",
    "# Downloading required NLTK data\n",
    "nltk.download(\"punkt\")\n",
    "nltk.download(\"stopwords\")\n",
    "\n",
    "# Load trained models and encoders\n",
    "model_path = \"C:/Users/user/OneDrive/Desktop/JN/svm_model.pkl\"\n",
    "vectorizer_path = \"C:/Users/user/OneDrive/Desktop/JN/tfidf_vectorizer.pkl\"\n",
    "label_encoder_path = \"C:/Users/user/OneDrive/Desktop/JN/label_encoder.pkl\"\n",
    "\n",
    "svm_model = joblib.load(model_path)\n",
    "tfidf_vectorizer = joblib.load(vectorizer_path)\n",
    "label_encoder = joblib.load(label_encoder_path)  # Load LabelEncoder\n",
    "\n",
    "# Function to clean text\n",
    "def clean_text(text):\n",
    "    if not isinstance(text, str):\n",
    "        return \"\"\n",
    "    text = text.lower()\n",
    "    text = re.sub(r\"https?://\\S+|www\\.\\S+\", \"\", text)  # Remove URLs\n",
    "    text = re.sub(r\"[^\\w\\s]\", \"\", text)  # Remove punctuation\n",
    "    text = re.sub(r\"\\d+\", \"\", text)  # Remove numbers\n",
    "    tokens = word_tokenize(text)\n",
    "    tokens = [word for word in tokens if word not in stopwords.words(\"english\")]\n",
    "    return \" \".join(tokens)\n",
    "\n",
    "# Define UI\n",
    "app_ui = ui.page_fluid(\n",
    "    ui.tags.style(\"\"\"\n",
    "        body { background: linear-gradient(to right, #1a1a2e, #16213e); color: white; font-family: 'Arial', sans-serif; padding: 20px; }\n",
    "        .app-header { text-align: center; color: #ff4b5c; font-size: 42px; font-weight: bold; padding-bottom: 10px; text-shadow: 2px 2px 10px rgba(255, 75, 92, 0.8); }\n",
    "        .card { background: rgba(44, 44, 84, 0.9); padding: 25px; border-radius: 15px; box-shadow: 2px 2px 15px rgba(255, 255, 255, 0.1); margin-bottom: 20px; }\n",
    "        .btn-primary { background: linear-gradient(135deg, #ff4b5c, #ff6f61); border: none; font-size: 20px; padding: 12px; border-radius: 10px; width: 100%; color: white; transition: 0.3s; font-weight: bold; }\n",
    "        .btn-primary:hover { background: linear-gradient(135deg, #ff3b4c, #ff514b); box-shadow: 0px 0px 15px #ff4b5c; }\n",
    "        textarea { background: #222; color: white; border: 2px solid #ff4b5c; width: 100%; height: 120px; border-radius: 8px; padding: 10px; font-size: 16px; resize: vertical; }\n",
    "        label { color: white !important; font-weight: bold; font-size: 18px; }\n",
    "    \"\"\"),\n",
    "    \n",
    "    ui.h1(\"🔍 MHD Web App\", class_=\"app-header\"),\n",
    "    \n",
    "    ui.div(ui.input_text_area(\"input_text\", \"📝 Enter text for detection:\", height=\"120px\"), class_=\"card\"),\n",
    "    ui.div(ui.input_action_button(\"predict_button\", \"Analyse Text\", class_=\"btn btn-primary\"), class_=\"card text-center\"),\n",
    "    ui.div(ui.output_ui(\"predictions\"), class_=\"card\")\n",
    ")\n",
    "\n",
    "# Define server logic\n",
    "def server(input, output, session):\n",
    "    @output\n",
    "    @render.ui\n",
    "    def predictions():\n",
    "        if not input.predict_button():\n",
    "            return \"\"\n",
    "\n",
    "        input_text = input.input_text()\n",
    "        if not input_text:\n",
    "            return ui.HTML(\"<b style='color: white;'>Please enter some text.</b>\")\n",
    "\n",
    "        statements = input_text.strip().split(\"\\n\")\n",
    "        df = pd.DataFrame({\"text\": statements})\n",
    "        df[\"clean_text\"] = df[\"text\"].apply(clean_text)\n",
    "\n",
    "        # Transform input and make predictions\n",
    "        input_vectorized = tfidf_vectorizer.transform(df[\"clean_text\"])\n",
    "        numeric_predictions = svm_model.predict(input_vectorized)\n",
    "\n",
    "        # Convert numeric predictions to labels\n",
    "        df[\"detection\"] = label_encoder.inverse_transform(numeric_predictions)\n",
    "\n",
    "        # Format the output\n",
    "        result = \"<br><br>\".join([\n",
    "            f\"<span style='color: white; font-size: 20px;'>\"\n",
    "            f\"📌 <b>Text:</b> {row['text']} <br> 🔍 <b>Detection:</b> {row['detection']}\"\n",
    "            f\"</span>\"\n",
    "            for _, row in df.iterrows()\n",
    "        ])\n",
    "\n",
    "        return ui.HTML(result)\n",
    "\n",
    "# Create and run the Shiny app\n",
    "app = App(app_ui, server)\n",
    "from shiny import run_app\n",
    "run_app(app)\n"
   ]
  },
  {
   "cell_type": "code",
   "execution_count": null,
   "id": "a1f8adfe-0257-4483-a4ad-e97e93aa8994",
   "metadata": {},
   "outputs": [],
   "source": []
  }
 ],
 "metadata": {
  "kernelspec": {
   "display_name": "Python 3 (ipykernel)",
   "language": "python",
   "name": "python3"
  },
  "language_info": {
   "codemirror_mode": {
    "name": "ipython",
    "version": 3
   },
   "file_extension": ".py",
   "mimetype": "text/x-python",
   "name": "python",
   "nbconvert_exporter": "python",
   "pygments_lexer": "ipython3",
   "version": "3.10.0"
  }
 },
 "nbformat": 4,
 "nbformat_minor": 5
}
